{
 "cells": [
  {
   "cell_type": "markdown",
   "id": "19049dba",
   "metadata": {},
   "source": [
    "# Get the ticker names for all listed companies"
   ]
  },
  {
   "cell_type": "markdown",
   "id": "38380b12",
   "metadata": {},
   "source": [
    "https://www.nasdaq.com/market-activity/stocks/screener?exchange=NASDAQ&render=download"
   ]
  },
  {
   "cell_type": "code",
   "execution_count": 1,
   "id": "a54eec2e",
   "metadata": {},
   "outputs": [],
   "source": [
    "import pandas as pd"
   ]
  },
  {
   "cell_type": "code",
   "execution_count": 2,
   "id": "f3a15ed6",
   "metadata": {},
   "outputs": [],
   "source": [
    "df_nasdaq = pd.read_csv('nasdaq_screener_1665824524262.csv')\n",
    "df_nasdaq['Listing'] = ['NASDAQ']*len(df_nasdaq)\n",
    "df_nyse = pd.read_csv('nasdaq_screener_1665824563865.csv')\n",
    "df_nyse['Listing'] = ['NYSE']*len(df_nyse)\n",
    "df_amex = pd.read_csv('nasdaq_screener_1665824575784.csv')\n",
    "df_amex['Listing'] = ['AMEX']*len(df_amex)"
   ]
  },
  {
   "cell_type": "code",
   "execution_count": 3,
   "id": "094979fe",
   "metadata": {},
   "outputs": [],
   "source": [
    "df_companies = pd.concat([df_nasdaq,df_nyse,df_amex],ignore_index=True)"
   ]
  },
  {
   "cell_type": "code",
   "execution_count": 4,
   "id": "813218e0",
   "metadata": {},
   "outputs": [
    {
     "data": {
      "text/plain": [
       "8276"
      ]
     },
     "execution_count": 4,
     "metadata": {},
     "output_type": "execute_result"
    }
   ],
   "source": [
    "len(df_companies)"
   ]
  },
  {
   "cell_type": "markdown",
   "id": "403b41c9",
   "metadata": {},
   "source": [
    "# Get Ticker CIK Map"
   ]
  },
  {
   "cell_type": "markdown",
   "id": "78c782b1",
   "metadata": {},
   "source": [
    "https://www.sec.gov/include/ticker.txt"
   ]
  },
  {
   "cell_type": "code",
   "execution_count": 5,
   "id": "4b8c64e5",
   "metadata": {},
   "outputs": [],
   "source": [
    "df_cik = pd.read_csv('TICKER_CIK_MAP.csv')\n",
    "df_companies.dropna(subset=['Symbol'],inplace=True)\n",
    "df_companies['Symbol']=df_companies['Symbol'].astype(\"string\")\n",
    "df_cik['Ticker']=df_cik['Ticker'].astype('string')"
   ]
  },
  {
   "cell_type": "code",
   "execution_count": 6,
   "id": "141f3e99",
   "metadata": {},
   "outputs": [],
   "source": [
    "def getcik(symbol):\n",
    "    #print(symbol)\n",
    "    symbol = symbol.lower()\n",
    "    if symbol in df_cik['Ticker'].values:\n",
    "        cik = str(df_cik[df_cik['Ticker'] == symbol]['CIK'].values[0])\n",
    "        cik = '0'*(10-len(cik))+cik\n",
    "        return cik\n",
    "    else:\n",
    "        return 'EMPTY'"
   ]
  },
  {
   "cell_type": "code",
   "execution_count": 7,
   "id": "b713565f",
   "metadata": {},
   "outputs": [],
   "source": [
    "df_companies['CIK'] = df_companies['Symbol'].apply(lambda x:getcik(x))"
   ]
  },
  {
   "cell_type": "markdown",
   "id": "ebb53ddb",
   "metadata": {},
   "source": [
    "Get Ticker Map from API"
   ]
  },
  {
   "cell_type": "code",
   "execution_count": 9,
   "id": "13dc4805",
   "metadata": {},
   "outputs": [],
   "source": [
    "import requests\n",
    "headers = {'User-Agent': \"venkatesh.surampally79@gmail.com\"}\n",
    "tickers_cik = requests.get(\"https://www.sec.gov/files/company_tickers.json\", headers=headers)\n",
    "tickers_cik =     pd.json_normalize(pd.json_normalize(tickers_cik.json(),\\\n",
    "max_level=0).values[0])\n",
    "tickers_cik[\"cik_str\"] = tickers_cik[\"cik_str\"].astype(str).str.zfill(10)\n",
    "tickers_cik.set_index(\"ticker\",inplace=True)"
   ]
  },
  {
   "cell_type": "code",
   "execution_count": 10,
   "id": "bd51f104",
   "metadata": {},
   "outputs": [
    {
     "data": {
      "text/html": [
       "<div>\n",
       "<style scoped>\n",
       "    .dataframe tbody tr th:only-of-type {\n",
       "        vertical-align: middle;\n",
       "    }\n",
       "\n",
       "    .dataframe tbody tr th {\n",
       "        vertical-align: top;\n",
       "    }\n",
       "\n",
       "    .dataframe thead th {\n",
       "        text-align: right;\n",
       "    }\n",
       "</style>\n",
       "<table border=\"1\" class=\"dataframe\">\n",
       "  <thead>\n",
       "    <tr style=\"text-align: right;\">\n",
       "      <th></th>\n",
       "      <th>cik_str</th>\n",
       "      <th>title</th>\n",
       "    </tr>\n",
       "    <tr>\n",
       "      <th>ticker</th>\n",
       "      <th></th>\n",
       "      <th></th>\n",
       "    </tr>\n",
       "  </thead>\n",
       "  <tbody>\n",
       "    <tr>\n",
       "      <th>AAPL</th>\n",
       "      <td>0000320193</td>\n",
       "      <td>Apple Inc.</td>\n",
       "    </tr>\n",
       "    <tr>\n",
       "      <th>MSFT</th>\n",
       "      <td>0000789019</td>\n",
       "      <td>MICROSOFT CORP</td>\n",
       "    </tr>\n",
       "    <tr>\n",
       "      <th>AMZN</th>\n",
       "      <td>0001018724</td>\n",
       "      <td>AMAZON COM INC</td>\n",
       "    </tr>\n",
       "    <tr>\n",
       "      <th>BRK-B</th>\n",
       "      <td>0001067983</td>\n",
       "      <td>BERKSHIRE HATHAWAY INC</td>\n",
       "    </tr>\n",
       "    <tr>\n",
       "      <th>UNH</th>\n",
       "      <td>0000731766</td>\n",
       "      <td>UNITEDHEALTH GROUP INC</td>\n",
       "    </tr>\n",
       "    <tr>\n",
       "      <th>...</th>\n",
       "      <td>...</td>\n",
       "      <td>...</td>\n",
       "    </tr>\n",
       "    <tr>\n",
       "      <th>SPIR-WT</th>\n",
       "      <td>0001816017</td>\n",
       "      <td>Spire Global, Inc.</td>\n",
       "    </tr>\n",
       "    <tr>\n",
       "      <th>GHACU</th>\n",
       "      <td>0001806156</td>\n",
       "      <td>Gaming &amp; Hospitality Acquisition Corp.</td>\n",
       "    </tr>\n",
       "    <tr>\n",
       "      <th>GLS-WT</th>\n",
       "      <td>0001805087</td>\n",
       "      <td>GELESIS HOLDINGS, INC.</td>\n",
       "    </tr>\n",
       "    <tr>\n",
       "      <th>GHACW</th>\n",
       "      <td>0001806156</td>\n",
       "      <td>Gaming &amp; Hospitality Acquisition Corp.</td>\n",
       "    </tr>\n",
       "    <tr>\n",
       "      <th>GFAIW</th>\n",
       "      <td>0001804469</td>\n",
       "      <td>Guardforce AI Co., Ltd.</td>\n",
       "    </tr>\n",
       "  </tbody>\n",
       "</table>\n",
       "<p>12045 rows × 2 columns</p>\n",
       "</div>"
      ],
      "text/plain": [
       "            cik_str                                   title\n",
       "ticker                                                     \n",
       "AAPL     0000320193                              Apple Inc.\n",
       "MSFT     0000789019                          MICROSOFT CORP\n",
       "AMZN     0001018724                          AMAZON COM INC\n",
       "BRK-B    0001067983                  BERKSHIRE HATHAWAY INC\n",
       "UNH      0000731766                  UNITEDHEALTH GROUP INC\n",
       "...             ...                                     ...\n",
       "SPIR-WT  0001816017                      Spire Global, Inc.\n",
       "GHACU    0001806156  Gaming & Hospitality Acquisition Corp.\n",
       "GLS-WT   0001805087                  GELESIS HOLDINGS, INC.\n",
       "GHACW    0001806156  Gaming & Hospitality Acquisition Corp.\n",
       "GFAIW    0001804469                 Guardforce AI Co., Ltd.\n",
       "\n",
       "[12045 rows x 2 columns]"
      ]
     },
     "execution_count": 10,
     "metadata": {},
     "output_type": "execute_result"
    }
   ],
   "source": [
    "tickers_cik"
   ]
  },
  {
   "cell_type": "markdown",
   "id": "5ae20cc7",
   "metadata": {},
   "source": [
    "Companies Bio Data"
   ]
  },
  {
   "cell_type": "code",
   "execution_count": 11,
   "id": "fb18c997",
   "metadata": {},
   "outputs": [],
   "source": [
    "df_companies.to_csv('companies_biodata.csv',index=False)"
   ]
  },
  {
   "cell_type": "code",
   "execution_count": 12,
   "id": "5444ce5e",
   "metadata": {},
   "outputs": [],
   "source": [
    "df_companies = pd.read_csv('companies_biodata.csv')"
   ]
  },
  {
   "cell_type": "code",
   "execution_count": 13,
   "id": "2309b245",
   "metadata": {},
   "outputs": [
    {
     "data": {
      "text/html": [
       "<div>\n",
       "<style scoped>\n",
       "    .dataframe tbody tr th:only-of-type {\n",
       "        vertical-align: middle;\n",
       "    }\n",
       "\n",
       "    .dataframe tbody tr th {\n",
       "        vertical-align: top;\n",
       "    }\n",
       "\n",
       "    .dataframe thead th {\n",
       "        text-align: right;\n",
       "    }\n",
       "</style>\n",
       "<table border=\"1\" class=\"dataframe\">\n",
       "  <thead>\n",
       "    <tr style=\"text-align: right;\">\n",
       "      <th></th>\n",
       "      <th>Symbol</th>\n",
       "      <th>Name</th>\n",
       "      <th>Last Sale</th>\n",
       "      <th>Net Change</th>\n",
       "      <th>% Change</th>\n",
       "      <th>Market Cap</th>\n",
       "      <th>Country</th>\n",
       "      <th>IPO Year</th>\n",
       "      <th>Volume</th>\n",
       "      <th>Sector</th>\n",
       "      <th>Industry</th>\n",
       "      <th>Listing</th>\n",
       "      <th>CIK</th>\n",
       "    </tr>\n",
       "  </thead>\n",
       "  <tbody>\n",
       "    <tr>\n",
       "      <th>7</th>\n",
       "      <td>AAPL</td>\n",
       "      <td>Apple Inc. Common Stock</td>\n",
       "      <td>$138.38</td>\n",
       "      <td>-4.61</td>\n",
       "      <td>-3.224%</td>\n",
       "      <td>2.399141e+12</td>\n",
       "      <td>United States</td>\n",
       "      <td>1980.0</td>\n",
       "      <td>88508322</td>\n",
       "      <td>Technology</td>\n",
       "      <td>Computer Manufacturing</td>\n",
       "      <td>NASDAQ</td>\n",
       "      <td>0000320193</td>\n",
       "    </tr>\n",
       "  </tbody>\n",
       "</table>\n",
       "</div>"
      ],
      "text/plain": [
       "  Symbol                     Name Last Sale  Net Change % Change  \\\n",
       "7   AAPL  Apple Inc. Common Stock   $138.38       -4.61  -3.224%   \n",
       "\n",
       "     Market Cap        Country  IPO Year    Volume      Sector  \\\n",
       "7  2.399141e+12  United States    1980.0  88508322  Technology   \n",
       "\n",
       "                 Industry Listing         CIK  \n",
       "7  Computer Manufacturing  NASDAQ  0000320193  "
      ]
     },
     "execution_count": 13,
     "metadata": {},
     "output_type": "execute_result"
    }
   ],
   "source": [
    "df_companies[df_companies['CIK'] == '0000320193']"
   ]
  },
  {
   "cell_type": "markdown",
   "id": "38b61832",
   "metadata": {},
   "source": [
    "# Get Filings From sec.gov"
   ]
  },
  {
   "cell_type": "markdown",
   "id": "5a1b83e2",
   "metadata": {},
   "source": [
    "https://www.sec.gov/Archives/edgar/daily-index/xbrl/companyfacts.zip"
   ]
  },
  {
   "cell_type": "raw",
   "id": "020f13b2",
   "metadata": {},
   "source": [
    "OperatingExpenses\n",
    "ResearchAndDevelopmentExpense\n",
    "SellingGeneralAndAdministrativeExpense\n",
    "Assets\n",
    "AssetsCurrent\n",
    "AssetsNoncurrent\n",
    "NetIncomeLoss"
   ]
  },
  {
   "cell_type": "code",
   "execution_count": 14,
   "id": "845c9ece",
   "metadata": {},
   "outputs": [],
   "source": [
    "def get_info(data):\n",
    "    df_final = pd.DataFrame()\n",
    "    import datetime\n",
    "    #Values that can be distributed across the quarters independent of each quarter\n",
    "    import datetime\n",
    "    #Values that can be distributed across the quarters independent of each quarter\n",
    "    start = None\n",
    "    end = None\n",
    "    import datetime\n",
    "    for lookup in ['OperatingExpenses','ResearchAndDevelopmentExpense','SellingGeneralAndAdministrativeExpense','NetIncomeLoss','Assets','AssetsCurrent','AssetsNoncurrent']:\n",
    "        if lookup in data['facts']['us-gaap'].keys():\n",
    "            assets_timeserie = pd.json_normalize(data['facts']['us-gaap'][lookup][\"units\"][\"USD\"])\n",
    "            assets_timeserie[\"filed\"] = pd.to_datetime(assets_timeserie[\"filed\"])\n",
    "            assets_timeserie[\"end\"] = pd.to_datetime(assets_timeserie[\"end\"])\n",
    "            try:\n",
    "                assets_timeserie[\"start\"] = pd.to_datetime(assets_timeserie[\"start\"])\n",
    "                if start: start = min(start,assets_timeserie['start'].min())\n",
    "                else: start = assets_timeserie['start'].min()\n",
    "            except:\n",
    "                if start: start = min(start,assets_timeserie['end'].min())\n",
    "                else: start = assets_timeserie['end'].min()\n",
    "            if end: end = max(end,assets_timeserie['end'].max())\n",
    "            else: end = assets_timeserie['end'].max()\n",
    "    df_final.index = pd.date_range(start.date()+ datetime.timedelta(days=7),end.date() + pd.offsets.QuarterBegin(1), freq='Q').strftime('%B %Y').tolist()\n",
    "    \n",
    "    for lookup in ['OperatingExpenses','ResearchAndDevelopmentExpense','SellingGeneralAndAdministrativeExpense','NetIncomeLoss']:\n",
    "        if lookup in data['facts']['us-gaap'].keys():\n",
    "            assets_timeserie = pd.json_normalize(data['facts']['us-gaap'][lookup][\"units\"][\"USD\"])\n",
    "            assets_timeserie[\"filed\"] = pd.to_datetime(assets_timeserie[\"filed\"])\n",
    "            assets_timeserie[\"start\"] = pd.to_datetime(assets_timeserie[\"start\"])\n",
    "            assets_timeserie[\"end\"] = pd.to_datetime(assets_timeserie[\"end\"])\n",
    "            assets_timeserie = assets_timeserie.sort_values(\"end\")\n",
    "\n",
    "            df_10Q_10K=assets_timeserie[assets_timeserie['form'].isin(['10-Q','10-K'])].reset_index()\n",
    "            df_10Q=assets_timeserie[assets_timeserie['form'].isin(['10-Q'])].reset_index()\n",
    "            df_10K=assets_timeserie[assets_timeserie['form'].isin(['10-K'])].reset_index()\n",
    "\n",
    "            filed_quartes_val = {x:None for x in (pd.date_range(df_10Q_10K['start'].min().date()+ datetime.timedelta(days=7),df_10Q_10K['end'].max().date() + pd.offsets.QuarterBegin(1), freq='Q').strftime('%B %Y').tolist())}\n",
    "\n",
    "            import datetime\n",
    "            max_len = 0\n",
    "            for i in range(len(df_10Q_10K)):\n",
    "                l = pd.date_range(df_10Q_10K.iloc[i].start + datetime.timedelta(days=7),df_10Q_10K.iloc[i].end + pd.offsets.QuarterBegin(1), freq='Q').strftime('%B %Y').tolist()\n",
    "                max_len = max(max_len,len(l))\n",
    "            done = set()\n",
    "            for length in range(1,max_len+1):\n",
    "                for i in range(len(df_10Q_10K)):\n",
    "                    l = pd.date_range(df_10Q_10K.iloc[i].start + datetime.timedelta(days=7),df_10Q_10K.iloc[i].end + pd.offsets.QuarterBegin(1), freq='Q').strftime('%B %Y').tolist()\n",
    "                    if len(l) == length:\n",
    "                        left = set(l) - done\n",
    "                        comp = list(set(l) - left)\n",
    "                        compsum = 0\n",
    "                        for quarter in comp:\n",
    "                            compsum += filed_quartes_val[quarter]         \n",
    "                        for quarter in left:\n",
    "                            distribute = (int(df_10Q_10K.iloc[i].val)-compsum)/len(left)\n",
    "                            done.add(quarter)\n",
    "                            filed_quartes_val[quarter] = distribute \n",
    "            df_final[lookup] = pd.DataFrame.from_dict(filed_quartes_val,columns=[lookup], orient='index')[lookup]\n",
    "        \n",
    "\n",
    "    #Values that dependent of each quarter like assets where assets from previous quarter cis transferred to next quarter\n",
    "    for lookup in ['Assets','AssetsCurrent','AssetsNoncurrent']:\n",
    "        if lookup in data['facts']['us-gaap'].keys():\n",
    "            assets_timeserie = pd.json_normalize(data['facts']['us-gaap'][lookup][\"units\"][\"USD\"])\n",
    "            assets_timeserie[\"filed\"] = pd.to_datetime(assets_timeserie[\"filed\"])\n",
    "            assets_timeserie[\"start\"] = pd.to_datetime(assets_timeserie[\"end\"])\n",
    "            assets_timeserie[\"end\"] = pd.to_datetime(assets_timeserie[\"end\"])\n",
    "            assets_timeserie = assets_timeserie.sort_values(\"end\")\n",
    "\n",
    "            df_10Q_10K=assets_timeserie[assets_timeserie['form'].isin(['10-Q','10-K'])].reset_index()\n",
    "            df_10Q=assets_timeserie[assets_timeserie['form'].isin(['10-Q'])].reset_index()\n",
    "            df_10K=assets_timeserie[assets_timeserie['form'].isin(['10-K'])].reset_index()\n",
    "\n",
    "            filed_quartes_val = {x:None for x in (pd.date_range(df_10Q_10K['start'].min().date()- datetime.timedelta(days=7),df_10Q_10K['end'].max().date() + pd.offsets.QuarterBegin(1), freq='Q').strftime('%B %Y').tolist())}\n",
    "\n",
    "            import datetime\n",
    "            max_len = 0\n",
    "            for i in range(len(df_10Q_10K)):\n",
    "                l = pd.date_range(df_10Q_10K.iloc[i].start - datetime.timedelta(days=7),df_10Q_10K.iloc[i].end + datetime.timedelta(days=7) + pd.offsets.QuarterBegin(1), freq='Q').strftime('%B %Y').tolist()\n",
    "                max_len = max(max_len,len(l))\n",
    "            done = set()\n",
    "            for length in range(1,max_len+1):\n",
    "                for i in range(len(df_10Q_10K)):\n",
    "                    l = pd.date_range(df_10Q_10K.iloc[i].start - datetime.timedelta(days=7),df_10Q_10K.iloc[i].end + datetime.timedelta(days=7) + pd.offsets.QuarterBegin(1), freq='Q').strftime('%B %Y').tolist()\n",
    "                    if len(l) == length:\n",
    "                        left = set(l) - done\n",
    "                        comp = list(set(l) - left)     \n",
    "                        for quarter in left:\n",
    "                            distribute = (int(df_10Q_10K.iloc[i].val))/1\n",
    "                            done.add(quarter)\n",
    "                            filed_quartes_val[quarter] = distribute \n",
    "            df_final[lookup] = pd.DataFrame.from_dict(filed_quartes_val,columns=[lookup], orient='index')[lookup]\n",
    "        \n",
    "    return df_final\n",
    "    "
   ]
  },
  {
   "cell_type": "code",
   "execution_count": 15,
   "id": "afb43d11",
   "metadata": {},
   "outputs": [
    {
     "name": "stdout",
     "output_type": "stream",
     "text": [
      "C:\\Users\\User\\Desktop\\Workflow Assignment\n"
     ]
    }
   ],
   "source": [
    "cd C:\\Users\\User\\Desktop\\Workflow Assignment"
   ]
  },
  {
   "cell_type": "code",
   "execution_count": 16,
   "id": "059041d6",
   "metadata": {},
   "outputs": [
    {
     "name": "stdout",
     "output_type": "stream",
     "text": [
      "[==================================================] 100%  Generating Testing Data, Error: 0, VOID = 0, Done 16556 Records Rem 000"
     ]
    }
   ],
   "source": [
    "#Generate 10-K and 10-Q facts\n",
    "\n",
    "import sys\n",
    "import os\n",
    "def print_progress_bar(index, total, label,time,speed):\n",
    "    n_bar = 50  # Progress bar width\n",
    "    progress = index / total\n",
    "    sys.stdout.write('\\r')\n",
    "    sys.stdout.write(f\"[{'=' * int(n_bar * progress):{n_bar}s}] {int(100 * progress)}%  {label}, VOID = {time}, {speed}\")\n",
    "    sys.stdout.flush()\n",
    "\n",
    "\n",
    "import json\n",
    "found = 0\n",
    "not_found = 0\n",
    "no_cik = 0\n",
    "void = 0\n",
    "voids = []\n",
    "error = []\n",
    "tot = len(os.listdir(path=r'C:\\Users\\User\\Desktop\\Workflow Assignment\\XBLR_File')[:])\n",
    "for j,cik in enumerate(os.listdir(path=r'C:\\Users\\User\\Desktop\\Workflow Assignment\\XBLR_File')[:]):\n",
    "    cik = cik[3:-5]\n",
    "    if cik != 'EMPTY':\n",
    "        try:\n",
    "            f = open('XBLR_File\\CIK'+str(cik)+'.json')\n",
    "            data = json.load(f)\n",
    "            f.close()\n",
    "            found += 1\n",
    "            df_out = get_info(data)\n",
    "            df_out.to_csv('10K_RESULTS\\CIK'+cik+'_VALUES.csv')\n",
    "            if len(df_out)==0:\n",
    "                void+=1\n",
    "                voids.append(cik)\n",
    "            if ((df_final.isnull().count() - df_final.isnull().sum())==0).sum() >0:\n",
    "                error.append(cik)\n",
    "        except:\n",
    "            not_found += 1\n",
    "    else:\n",
    "        no_cik += 1\n",
    "    print_progress_bar(j, tot-1, \"Generating Testing Data, Error: \"+str(len(error)),void, 'Done ' + str(j+1)+' Records Rem '+str(tot-1-j))"
   ]
  },
  {
   "cell_type": "markdown",
   "id": "85d03047",
   "metadata": {},
   "source": [
    "# We can also get the company data with API (Not Implemented)"
   ]
  },
  {
   "cell_type": "code",
   "execution_count": 17,
   "id": "a29ab37d",
   "metadata": {},
   "outputs": [],
   "source": [
    "tickers_cik = pd.read_csv('listed_companies.csv')\n",
    "tickers_cik['cik_str'] = tickers_cik['cik_str'].astype('string')"
   ]
  },
  {
   "cell_type": "code",
   "execution_count": 18,
   "id": "72bcec7c",
   "metadata": {},
   "outputs": [],
   "source": [
    "response = requests.get(\"https://data.sec.gov/api/xbrl/companyconcept/CIK0000320193/us-gaap/Assets.json\", headers=headers)"
   ]
  },
  {
   "cell_type": "code",
   "execution_count": 19,
   "id": "162d50db",
   "metadata": {},
   "outputs": [],
   "source": [
    "assets_timeserie = pd.json_normalize(response.json()[\"units\"][\"USD\"])\n",
    "assets_timeserie[\"filed\"] = pd.to_datetime(assets_timeserie[\"filed\"])\n",
    "assets_timeserie = assets_timeserie.sort_values(\"end\")"
   ]
  },
  {
   "cell_type": "code",
   "execution_count": 20,
   "id": "a5e67e72",
   "metadata": {},
   "outputs": [
    {
     "data": {
      "text/html": [
       "<div>\n",
       "<style scoped>\n",
       "    .dataframe tbody tr th:only-of-type {\n",
       "        vertical-align: middle;\n",
       "    }\n",
       "\n",
       "    .dataframe tbody tr th {\n",
       "        vertical-align: top;\n",
       "    }\n",
       "\n",
       "    .dataframe thead th {\n",
       "        text-align: right;\n",
       "    }\n",
       "</style>\n",
       "<table border=\"1\" class=\"dataframe\">\n",
       "  <thead>\n",
       "    <tr style=\"text-align: right;\">\n",
       "      <th></th>\n",
       "      <th>end</th>\n",
       "      <th>val</th>\n",
       "      <th>accn</th>\n",
       "      <th>fy</th>\n",
       "      <th>fp</th>\n",
       "      <th>form</th>\n",
       "      <th>filed</th>\n",
       "      <th>frame</th>\n",
       "    </tr>\n",
       "  </thead>\n",
       "  <tbody>\n",
       "    <tr>\n",
       "      <th>0</th>\n",
       "      <td>2008-09-27</td>\n",
       "      <td>39572000000</td>\n",
       "      <td>0001193125-09-153165</td>\n",
       "      <td>2009</td>\n",
       "      <td>Q3</td>\n",
       "      <td>10-Q</td>\n",
       "      <td>2009-07-22</td>\n",
       "      <td>NaN</td>\n",
       "    </tr>\n",
       "    <tr>\n",
       "      <th>1</th>\n",
       "      <td>2008-09-27</td>\n",
       "      <td>39572000000</td>\n",
       "      <td>0001193125-09-214859</td>\n",
       "      <td>2009</td>\n",
       "      <td>FY</td>\n",
       "      <td>10-K</td>\n",
       "      <td>2009-10-27</td>\n",
       "      <td>NaN</td>\n",
       "    </tr>\n",
       "    <tr>\n",
       "      <th>2</th>\n",
       "      <td>2008-09-27</td>\n",
       "      <td>36171000000</td>\n",
       "      <td>0001193125-10-012091</td>\n",
       "      <td>2009</td>\n",
       "      <td>FY</td>\n",
       "      <td>10-K/A</td>\n",
       "      <td>2010-01-25</td>\n",
       "      <td>NaN</td>\n",
       "    </tr>\n",
       "    <tr>\n",
       "      <th>3</th>\n",
       "      <td>2008-09-27</td>\n",
       "      <td>36171000000</td>\n",
       "      <td>0001193125-10-238044</td>\n",
       "      <td>2010</td>\n",
       "      <td>FY</td>\n",
       "      <td>10-K</td>\n",
       "      <td>2010-10-27</td>\n",
       "      <td>CY2008Q3I</td>\n",
       "    </tr>\n",
       "    <tr>\n",
       "      <th>4</th>\n",
       "      <td>2009-06-27</td>\n",
       "      <td>48140000000</td>\n",
       "      <td>0001193125-09-153165</td>\n",
       "      <td>2009</td>\n",
       "      <td>Q3</td>\n",
       "      <td>10-Q</td>\n",
       "      <td>2009-07-22</td>\n",
       "      <td>CY2009Q2I</td>\n",
       "    </tr>\n",
       "    <tr>\n",
       "      <th>...</th>\n",
       "      <td>...</td>\n",
       "      <td>...</td>\n",
       "      <td>...</td>\n",
       "      <td>...</td>\n",
       "      <td>...</td>\n",
       "      <td>...</td>\n",
       "      <td>...</td>\n",
       "      <td>...</td>\n",
       "    </tr>\n",
       "    <tr>\n",
       "      <th>109</th>\n",
       "      <td>2021-09-25</td>\n",
       "      <td>351002000000</td>\n",
       "      <td>0000320193-22-000059</td>\n",
       "      <td>2022</td>\n",
       "      <td>Q2</td>\n",
       "      <td>10-Q</td>\n",
       "      <td>2022-04-29</td>\n",
       "      <td>NaN</td>\n",
       "    </tr>\n",
       "    <tr>\n",
       "      <th>110</th>\n",
       "      <td>2021-09-25</td>\n",
       "      <td>351002000000</td>\n",
       "      <td>0000320193-22-000070</td>\n",
       "      <td>2022</td>\n",
       "      <td>Q3</td>\n",
       "      <td>10-Q</td>\n",
       "      <td>2022-07-29</td>\n",
       "      <td>CY2021Q3I</td>\n",
       "    </tr>\n",
       "    <tr>\n",
       "      <th>111</th>\n",
       "      <td>2021-12-25</td>\n",
       "      <td>381191000000</td>\n",
       "      <td>0000320193-22-000007</td>\n",
       "      <td>2022</td>\n",
       "      <td>Q1</td>\n",
       "      <td>10-Q</td>\n",
       "      <td>2022-01-28</td>\n",
       "      <td>CY2021Q4I</td>\n",
       "    </tr>\n",
       "    <tr>\n",
       "      <th>112</th>\n",
       "      <td>2022-03-26</td>\n",
       "      <td>350662000000</td>\n",
       "      <td>0000320193-22-000059</td>\n",
       "      <td>2022</td>\n",
       "      <td>Q2</td>\n",
       "      <td>10-Q</td>\n",
       "      <td>2022-04-29</td>\n",
       "      <td>CY2022Q1I</td>\n",
       "    </tr>\n",
       "    <tr>\n",
       "      <th>113</th>\n",
       "      <td>2022-06-25</td>\n",
       "      <td>336309000000</td>\n",
       "      <td>0000320193-22-000070</td>\n",
       "      <td>2022</td>\n",
       "      <td>Q3</td>\n",
       "      <td>10-Q</td>\n",
       "      <td>2022-07-29</td>\n",
       "      <td>CY2022Q2I</td>\n",
       "    </tr>\n",
       "  </tbody>\n",
       "</table>\n",
       "<p>114 rows × 8 columns</p>\n",
       "</div>"
      ],
      "text/plain": [
       "            end           val                  accn    fy  fp    form  \\\n",
       "0    2008-09-27   39572000000  0001193125-09-153165  2009  Q3    10-Q   \n",
       "1    2008-09-27   39572000000  0001193125-09-214859  2009  FY    10-K   \n",
       "2    2008-09-27   36171000000  0001193125-10-012091  2009  FY  10-K/A   \n",
       "3    2008-09-27   36171000000  0001193125-10-238044  2010  FY    10-K   \n",
       "4    2009-06-27   48140000000  0001193125-09-153165  2009  Q3    10-Q   \n",
       "..          ...           ...                   ...   ...  ..     ...   \n",
       "109  2021-09-25  351002000000  0000320193-22-000059  2022  Q2    10-Q   \n",
       "110  2021-09-25  351002000000  0000320193-22-000070  2022  Q3    10-Q   \n",
       "111  2021-12-25  381191000000  0000320193-22-000007  2022  Q1    10-Q   \n",
       "112  2022-03-26  350662000000  0000320193-22-000059  2022  Q2    10-Q   \n",
       "113  2022-06-25  336309000000  0000320193-22-000070  2022  Q3    10-Q   \n",
       "\n",
       "         filed      frame  \n",
       "0   2009-07-22        NaN  \n",
       "1   2009-10-27        NaN  \n",
       "2   2010-01-25        NaN  \n",
       "3   2010-10-27  CY2008Q3I  \n",
       "4   2009-07-22  CY2009Q2I  \n",
       "..         ...        ...  \n",
       "109 2022-04-29        NaN  \n",
       "110 2022-07-29  CY2021Q3I  \n",
       "111 2022-01-28  CY2021Q4I  \n",
       "112 2022-04-29  CY2022Q1I  \n",
       "113 2022-07-29  CY2022Q2I  \n",
       "\n",
       "[114 rows x 8 columns]"
      ]
     },
     "execution_count": 20,
     "metadata": {},
     "output_type": "execute_result"
    }
   ],
   "source": [
    "assets_timeserie"
   ]
  }
 ],
 "metadata": {
  "kernelspec": {
   "display_name": "Python 3 (ipykernel)",
   "language": "python",
   "name": "python3"
  },
  "language_info": {
   "codemirror_mode": {
    "name": "ipython",
    "version": 3
   },
   "file_extension": ".py",
   "mimetype": "text/x-python",
   "name": "python",
   "nbconvert_exporter": "python",
   "pygments_lexer": "ipython3",
   "version": "3.7.13"
  }
 },
 "nbformat": 4,
 "nbformat_minor": 5
}
